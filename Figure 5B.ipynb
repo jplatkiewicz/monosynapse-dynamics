{
 "cells": [
  {
   "cell_type": "code",
   "execution_count": 1,
   "metadata": {},
   "outputs": [
    {
     "name": "stdout",
     "output_type": "stream",
     "text": [
      "# sliding windows: 80000\n"
     ]
    },
    {
     "data": {
      "text/plain": [
       "<Figure size 640x480 with 1 Axes>"
      ]
     },
     "metadata": {},
     "output_type": "display_data"
    },
    {
     "data": {
      "text/plain": [
       "<Figure size 640x480 with 1 Axes>"
      ]
     },
     "metadata": {},
     "output_type": "display_data"
    },
    {
     "data": {
      "text/plain": [
       "<Figure size 640x480 with 1 Axes>"
      ]
     },
     "metadata": {},
     "output_type": "display_data"
    },
    {
     "data": {
      "text/plain": [
       "<Figure size 640x480 with 1 Axes>"
      ]
     },
     "metadata": {},
     "output_type": "display_data"
    },
    {
     "data": {
      "text/plain": [
       "<Figure size 640x480 with 1 Axes>"
      ]
     },
     "metadata": {},
     "output_type": "display_data"
    },
    {
     "data": {
      "text/plain": [
       "<Figure size 640x480 with 1 Axes>"
      ]
     },
     "metadata": {},
     "output_type": "display_data"
    }
   ],
   "source": [
    "import numpy as np\n",
    "from scipy import stats\n",
    "#get_ipython().magic('matplotlib inline')\n",
    "from ccg import correlograms\n",
    "import matplotlib.pyplot as plt\n",
    "\n",
    "def compthta(Rtemp,Ttemp,delta):\n",
    "    Sobs = len(np.intersect1d(Rtemp,Ttemp))\n",
    "    mxSpk = np.max(np.append(Rtemp,Ttemp))\n",
    "    bEdges = np.arange(0,mxSpk,delta)\n",
    "    bo = histc(Rtemp, bEdges) \n",
    "    refCounts = bo[0]\n",
    "    w = np.floor(Ttemp/delta)\n",
    "    w = w[w!=np.max(w)]\n",
    "    Nr = refCounts[w.astype('int')]\n",
    "    Nr = Nr[Nr!=0]/delta\n",
    "    naive = Sobs - np.sum(Nr)\n",
    "    thtahat = naive/(1-((1/len(Nr))*np.sum(Nr)))\n",
    "    return thtahat\n",
    "\n",
    "def histc(X, bins):\n",
    "    map_to_bins = np.digitize(X,bins)\n",
    "    r = np.zeros(bins.shape)\n",
    "    for i in map_to_bins:\n",
    "        r[i-1] += 1\n",
    "    return [r, map_to_bins]\n",
    "\n",
    "params = np.load('parameters_dynamic.npy')\n",
    "train_ref = np.load('train_ref_dynamic.npy')\n",
    "train_targ = np.load('train_targ_dynamic.npy')\n",
    "\n",
    "# Simulation parameters\n",
    "Ntrial = params[0]\n",
    "duration = params[1]    # duration of the trial\n",
    "time_step = params[2]\n",
    "Fs = 1./(time_step*.001)\n",
    "period = params[3]\n",
    "\n",
    "# Excess synchrony count unbiased estimation USING A SLIDING WINDOW\n",
    "synch_width = 1.*5\n",
    "delta = period\n",
    "Ndelta = int(Ntrial*duration/delta)\n",
    "window_width = Ntrial*duration/5 #.-0*delta #5.#10. #10*period\n",
    "Ninterval_window = int(window_width/delta)\n",
    "Nwindow = Ndelta-Ninterval_window\n",
    "print(\"# sliding windows:\", Nwindow)\n",
    "Ndt_window = int(window_width/time_step)\n",
    "estimate = np.array([])\n",
    "true = np.array([])\n",
    "s = np.array([])\n",
    "x = np.array([])\n",
    "Tr = synch_width*np.unique(np.floor(train_ref/synch_width))\n",
    "Tt = synch_width*np.unique(np.floor(train_targ/synch_width))\n",
    "train_synch = np.array(list(set(Tr) & set(Tt)))\n",
    "i_old = 0\n",
    "iA = 0\n",
    "iB = 0\n",
    "j_old = 0\n",
    "jA = 0\n",
    "jB = 0\n",
    "t0 = 0\n",
    "while t0 <= Ntrial*duration-window_width:\n",
    "    #--Reference train\n",
    "    Tref = np.array([])\n",
    "    iA = i_old\n",
    "    if iA < len(train_ref) and train_ref[iA] < t0:\n",
    "        while iA < len(train_ref) and train_ref[iA] < t0:\n",
    "            iA += 1\n",
    "        i_old = iA-1\n",
    "    if iA < len(train_ref) and train_ref[iA] < t0+window_width:\n",
    "        iB = iA\n",
    "        while iB < len(train_ref) and train_ref[iB] < t0+window_width: \n",
    "            iB += 1\n",
    "        Tref = train_ref[iA:iB] \n",
    "    #--Target train\n",
    "    Ttarg = np.array([])\n",
    "    jA = j_old\n",
    "    if jA < len(train_targ) and train_targ[jA] < t0:\n",
    "        while jA < len(train_targ) and train_targ[jA] < t0:\n",
    "            jA += 1\n",
    "        j_old = jA-1\n",
    "    if jA < len(train_targ) and train_targ[jA] < t0+window_width:\n",
    "        jB = jA\n",
    "        while jB < len(train_targ) and train_targ[jB] < t0+window_width: \n",
    "            jB += 1\n",
    "        Ttarg = train_targ[jA:jB] \n",
    "    #--Compute injected synchrony count estimate\n",
    "    if len(Tref) >= 1 and len(Ttarg) >= 1:\n",
    "        Tref = synch_width*np.unique(np.floor((Tref-t0)/synch_width))\n",
    "        Ttarg = synch_width*np.unique(np.floor((Ttarg-t0)/synch_width))\n",
    "        Tsynch = np.array(list(set(Tref) & set(Ttarg)))\n",
    "        count_ref = np.bincount(np.int64(np.floor(Tref/delta)),minlength=Ninterval_window)\n",
    "        count_targ = np.bincount(np.int64(np.floor(Ttarg/delta)),minlength=Ninterval_window)\n",
    "        count_synch = np.bincount(np.int64(np.floor(Tsynch/delta)),minlength=Ninterval_window)\n",
    "        RS_prod = np.sum(count_ref*count_synch)\n",
    "        RT_prod = np.sum(count_ref*count_targ)\n",
    "        synch_count = len(Tsynch)\n",
    "        temZ = compthta(Tref,Ttarg,delta)\n",
    "        estimate = np.append(estimate,temZ)\n",
    "        s = np.append(s,synch_count)\n",
    "        x = np.append(x,np.sum(count_targ))\n",
    "    else:\n",
    "        estimate = np.append(estimate,0)\n",
    "        s = np.append(s,synch_count)\n",
    "        x = np.append(x,np.sum(count_targ))\n",
    "    t0 += delta\n",
    "    #\n",
    "    #lagmax = 100.                  \n",
    "    #bine = 1.                    \n",
    "    #train = np.append(Tref,Ttarg)\n",
    "    #cell = np.int64(np.append(np.zeros(len(Tref)),np.ones(len(Ttarg))))\n",
    "    #ind_sort = np.argsort(train)\n",
    "    #st = train[ind_sort]*.001\n",
    "    #sc = cell[ind_sort]\n",
    "    #C = correlograms(st,sc,sample_rate=Fs,bin_size=bine/1000.,window_size=lagmax/1000.)\n",
    "    #lag = (np.arange(len(C[0,1]))-len(C[0,1])/2)*bine\n",
    "    #train0 = np.append(Tref0,Ttarg0)\n",
    "    #cell0 = np.int64(np.append(np.zeros(len(Tref0)),np.ones(len(Ttarg0))))    \n",
    "    #ind_sort = np.argsort(train0)\n",
    "    #st = train0[ind_sort]*.001\n",
    "    #sc = cell0[ind_sort]\n",
    "    #C0 = correlograms(st,sc,sample_rate=Fs,bin_size=bine/1000.,window_size=lagmax/1000.)\n",
    "    #def close_event():\n",
    "    #    plt.close()\n",
    "    #fig = plt.figure()\n",
    "    #timer = fig.canvas.new_timer(interval = 3000) #creating a timer object and setting an interval of 3000 milliseconds\n",
    "    #timer.add_callback(close_event)\n",
    "    #plt.plot(lag,C[0,1]/(len(train_ref)*bine*.001),'.-k')\n",
    "    #plt.plot(lag,C[0,1]/(len(train_ref)*bine*.001),'.-c')\n",
    "    #timer.start()\n",
    "    #plt.show()    \n",
    "    \n",
    "# Check the result\n",
    "time_win = np.arange(0,len(estimate),1)*(Ntrial*duration-window_width)/(len(estimate)-1.)+window_width/2.\n",
    "#estimate_PSP = (estimate/s*24.475-22.302)\n",
    "plt.figure()\n",
    "plt.plot(time_win/1000.,x,'-k')\n",
    "plt.figure()\n",
    "plt.xlabel('Time (s)',fontsize=18)\n",
    "plt.ylabel('Estimate',fontsize=18)\n",
    "plt.xticks(fontsize=18)\n",
    "plt.yticks(fontsize=18)\n",
    "#plt.plot(time_win,,'o-k')\n",
    "plt.plot(time_win/1000.,estimate/(Ntrial*duration*.001),'-k')\n",
    "FigTracking = plt.figure()\n",
    "plt.xlabel('Time (s)',fontsize=18)\n",
    "plt.ylabel('PSP Estimate',fontsize=18)\n",
    "plt.xticks(fontsize=18)\n",
    "plt.yticks(fontsize=18)\n",
    "#plt.plot(time_win,,'o-k')\n",
    "plt.plot(time_win/1000.,2.83*estimate/(Ntrial*duration*.001)-.927,'-k')\n",
    "plt.figure()\n",
    "plt.plot(time_win/1000.,estimate*1./s,'-k')\n",
    "plt.figure()\n",
    "plt.plot(time_win/1000.,24.475*estimate*1./s-22.302,'-k')\n",
    "plt.figure()\n",
    "plt.plot(time_win/1000.,s,'-m')\n",
    "plt.plot(time_win/1000.,estimate,'-b')\n",
    "plt.show()\n"
   ]
  },
  {
   "cell_type": "markdown",
   "metadata": {},
   "source": []
  },
  {
   "cell_type": "code",
   "execution_count": null,
   "metadata": {},
   "outputs": [],
   "source": []
  },
  {
   "cell_type": "markdown",
   "metadata": {},
   "source": []
  },
  {
   "cell_type": "code",
   "execution_count": null,
   "metadata": {},
   "outputs": [],
   "source": []
  },
  {
   "cell_type": "markdown",
   "metadata": {},
   "source": []
  },
  {
   "cell_type": "code",
   "execution_count": null,
   "metadata": {},
   "outputs": [],
   "source": []
  },
  {
   "cell_type": "code",
   "execution_count": null,
   "metadata": {},
   "outputs": [],
   "source": []
  }
 ],
 "metadata": {
  "kernelspec": {
   "display_name": "Python 3",
   "language": "python",
   "name": "python3"
  },
  "language_info": {
   "codemirror_mode": {
    "name": "ipython",
    "version": 3
   },
   "file_extension": ".py",
   "mimetype": "text/x-python",
   "name": "python",
   "nbconvert_exporter": "python",
   "pygments_lexer": "ipython3",
   "version": "3.6.4"
  }
 },
 "nbformat": 4,
 "nbformat_minor": 2
}
